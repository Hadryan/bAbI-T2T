{
 "cells": [
  {
   "cell_type": "code",
   "execution_count": 1,
   "metadata": {
    "colab": {
     "autoexec": {
      "startup": false,
      "wait_interval": 0
     }
    },
    "colab_type": "code",
    "id": "UVr3zfw-bAJx"
   },
   "outputs": [
    {
     "name": "stderr",
     "output_type": "stream",
     "text": [
      "/home/mdehgha1/bin/anaconda3/envs/tf/lib/python3.6/site-packages/h5py/__init__.py:36: FutureWarning: Conversion of the second argument of issubdtype from `float` to `np.floating` is deprecated. In future, it will be treated as `np.float64 == np.dtype(float).type`.\n",
      "  from ._conv import register_converters as _register_converters\n"
     ]
    }
   ],
   "source": [
    "import os\n",
    "import json\n",
    "\n",
    "import tensorflow as tf\n",
    "import numpy as np\n",
    "import pandas as pd\n",
    "import numpy as np\n",
    "import matplotlib.pyplot as plt\n",
    "import seaborn as sns\n",
    "from matplotlib import cm\n",
    "\n",
    "from tensor2tensor import problems\n",
    "from tensor2tensor import models\n",
    "from tensor2tensor.bin import t2t_decoder  # To register the hparams set\n",
    "from tensor2tensor.utils import registry\n",
    "from tensor2tensor.utils import trainer_lib\n",
    "from tensor2tensor.data_generators import babi_qa"
   ]
  },
  {
   "cell_type": "markdown",
   "metadata": {
    "colab_type": "text",
    "id": "FtqR6jyebAJ6"
   },
   "source": [
    "## HParams"
   ]
  },
  {
   "cell_type": "code",
   "execution_count": 4,
   "metadata": {
    "colab": {
     "autoexec": {
      "startup": false,
      "wait_interval": 0
     },
     "height": 34
    },
    "colab_type": "code",
    "executionInfo": {
     "elapsed": 75,
     "status": "ok",
     "timestamp": 1526592472286,
     "user": {
      "displayName": "Mostafa Dehghani",
      "photoUrl": "//lh5.googleusercontent.com/-ovSYJK9S1U8/AAAAAAAAAAI/AAAAAAAAALw/GbZ35s0KD_I/s50-c-k-no/photo.jpg",
      "userId": "117544073113991621344"
     },
     "user_tz": -120
    },
    "id": "Ey-UDpJHbAJ9",
    "outputId": "b2782784-4fb3-4cb4-e49a-510194f1a740"
   },
   "outputs": [
    {
     "name": "stdout",
     "output_type": "stream",
     "text": [
      "/cns/lu-d/home/dehghani/babi/output_visualization/babi_qa_sentence_single_task3_10k/babi_r_transformer/r_transformer_act_step_position_timing_tiny/\n"
     ]
    }
   ],
   "source": [
    "# HParams\n",
    "babi_task_id = 'qa3'\n",
    "subset = \"1k\"\n",
    "problem_name = 'babi_qa_sentence_task' + babi_task_id.replace(\"qa\", \"\") + \"_\" + subset\n",
    "model_name = \"babi_r_transformer\"\n",
    "hparams_set = \"r_transformer_act_step_position_timing_tiny\"\n",
    "\n",
    "data_dir = '~/babi/data/' + problem_name \n",
    "\n",
    "# PUT THE MODEL YOU WANT TO LOAD HERE!\n",
    "CHECKPOINT = '~/babi/output/' + problem_name+ '/' + model_name +  '/' + hparams_set + '/'\n",
    "print(CHECKPOINT)"
   ]
  },
  {
   "cell_type": "code",
   "execution_count": 5,
   "metadata": {
    "colab": {
     "autoexec": {
      "startup": false,
      "wait_interval": 0
     },
     "height": 68
    },
    "colab_type": "code",
    "executionInfo": {
     "elapsed": 3023,
     "status": "ok",
     "timestamp": 1526592477890,
     "user": {
      "displayName": "Mostafa Dehghani",
      "photoUrl": "//lh5.googleusercontent.com/-ovSYJK9S1U8/AAAAAAAAAAI/AAAAAAAAALw/GbZ35s0KD_I/s50-c-k-no/photo.jpg",
      "userId": "117544073113991621344"
     },
     "user_tz": -120
    },
    "id": "7c6JxW_bCu0w",
    "outputId": "4a07afc9-ccba-4e50-f470-367e617aaf29"
   },
   "outputs": [
    {
     "name": "stdout",
     "output_type": "stream",
     "text": [
      "130\n",
      "7\n",
      "8\n"
     ]
    }
   ],
   "source": [
    "_TASKS = {\n",
    "      'qa1': 'qa1_single-supporting-fact',\n",
    "      'qa2': 'qa2_two-supporting-facts',\n",
    "      'qa3': 'qa3_three-supporting-facts',\n",
    "      'qa4': 'qa4_two-arg-relations',\n",
    "      'qa5': 'qa5_three-arg-relations',\n",
    "      'qa6': 'qa6_yes-no-questions',\n",
    "      'qa7': 'qa7_counting',\n",
    "      'qa8': 'qa8_lists-sets',\n",
    "      'qa9': 'qa9_simple-negation',\n",
    "      'qa10': 'qa10_indefinite-knowledge',\n",
    "      'qa11': 'qa11_basic-coreference',\n",
    "      'qa12': 'qa12_conjunction',\n",
    "      'qa13': 'qa13_compound-coreference',\n",
    "      'qa14': 'qa14_time-reasoning',\n",
    "      'qa15': 'qa15_basic-deduction',\n",
    "      'qa16': 'qa16_basic-induction',\n",
    "      'qa17': 'qa17_positional-reasoning',\n",
    "      'qa18': 'qa18_size-reasoning',\n",
    "      'qa19': 'qa19_path-finding',\n",
    "      'qa20': 'qa20_agents-motivations'\n",
    "  }\n",
    "\n",
    "meta_data_filename = _TASKS[babi_task_id] + '-meta_data.json'\n",
    "metadata_path = os.path.join(data_dir, meta_data_filename)\n",
    "\n",
    "\n",
    "FLAGS = tf.flags.FLAGS\n",
    "FLAGS.data_dir = data_dir\n",
    "\n",
    "truncated_story_length = 130 if babi_task_id == 'qa3' else 70\n",
    "\n",
    "with tf.gfile.GFile(metadata_path, mode='r') as f:\n",
    "  metadata = json.load(f)\n",
    "max_story_length = metadata['max_story_length']\n",
    "max_sentence_length = metadata['max_sentence_length']\n",
    "max_question_length = metadata['max_question_length']\n",
    "\n",
    "print(max_story_length)\n",
    "print(max_sentence_length)\n",
    "print(max_question_length)"
   ]
  },
  {
   "cell_type": "code",
   "execution_count": 0,
   "metadata": {
    "colab": {
     "autoexec": {
      "startup": false,
      "wait_interval": 0
     }
    },
    "colab_type": "code",
    "collapsed": true,
    "id": "lmzvmnqY6Byq"
   },
   "outputs": [],
   "source": [
    "tf.reset_default_graph()\n",
    "\n",
    "class bAbiACTVisualizer(object):\n",
    "  \"\"\"Helper object for creating act visualizations.\"\"\"\n",
    "\n",
    "  def __init__(\n",
    "      self, hparams_set, model_name, data_dir, problem_name, beam_size=1):\n",
    "    story, question, targets, samples, ponder_time = build_model(\n",
    "        hparams_set, model_name, data_dir, problem_name, beam_size=beam_size)\n",
    "\n",
    "    # Fetch the problem\n",
    "    babi_problem = problems.problem(problem_name)\n",
    "    encoders = babi_problem.feature_encoders(data_dir)\n",
    "\n",
    "    self.story = story\n",
    "    self.question = question\n",
    "    self.targets = targets\n",
    "    self.ponder_time = ponder_time\n",
    "    self.samples = samples\n",
    "    self.encoders = encoders\n",
    "\n",
    "  def encode(self, story_str, question_str):\n",
    "    \"\"\"Input str to features dict, ready for inference.\"\"\"\n",
    "    \n",
    "    story_str = babi_qa._normalize_string(story_str)\n",
    "    question_str = babi_qa._normalize_string(question_str)\n",
    "    story = story_str.strip().split('.')\n",
    "    story = [self.encoders[babi_qa.FeatureNames.STORY].encode(sentence) \n",
    "                       for sentence in story[-truncated_story_length:]]\n",
    "    question = self.encoders[babi_qa.FeatureNames.QUESTION].encode(question_str)\n",
    "     \n",
    "    for sentence in story:\n",
    "      for _ in range(max_sentence_length - len(sentence)):\n",
    "        sentence.append(babi_qa.PAD)\n",
    "      assert len(sentence) == max_sentence_length\n",
    "\n",
    "    for _ in range(max_story_length - len(story)):\n",
    "      story.append([babi_qa.PAD for _ in range(max_sentence_length)])\n",
    "\n",
    "    for _ in range(max_question_length - len(question)):\n",
    "      question.append(babi_qa.PAD)\n",
    "\n",
    "    assert len(story) == max_story_length\n",
    "    assert len(question) == max_question_length   \n",
    "\n",
    "    story_flat = [token_id for sentence in story for token_id in sentence]\n",
    "    \n",
    "    batch_story = np.reshape(np.array(story_flat), \n",
    "                             [1, max_story_length, max_sentence_length, 1])\n",
    "    batch_question = np.reshape(np.array(question), \n",
    "                         [1, 1, max_question_length, 1])\n",
    "    return batch_story, batch_question\n",
    "\n",
    "  def decode_story(self, integers):\n",
    "    \"\"\"List of ints to str.\"\"\"\n",
    "    integers = np.squeeze(integers).tolist()\n",
    "    story = []\n",
    "    for sent in integers:\n",
    "      sent_decoded = self.encoders[babi_qa.FeatureNames.STORY].decode_list(sent)\n",
    "      sent_decoded.append('.')\n",
    "      story.append(sent_decoded)\n",
    "    return story\n",
    "  \n",
    "  def decode_question(self, integers):\n",
    "    \"\"\"List of ints to str.\"\"\"\n",
    "    integers = np.squeeze(integers).tolist()\n",
    "    return self.encoders[babi_qa.FeatureNames.QUESTION].decode_list(integers)\n",
    "  \n",
    "  def decode_targets(self, integers):\n",
    "    \"\"\"List of ints to str.\"\"\"\n",
    "    integers = np.squeeze(integers).tolist()\n",
    "    return self.encoders[\"targets\"].decode([integers])\n",
    "\n",
    "  def get_vis_data_from_string(self, sess, story_str, question_str):\n",
    "    \"\"\"Constructs the data needed for visualizing ponder_time.\n",
    "\n",
    "    Args:\n",
    "      sess: A tf.Session object.\n",
    "      input_string: The input setence to be visulized.\n",
    "\n",
    "    Returns:\n",
    "      Tuple of (\n",
    "          output_string: The answer\n",
    "          input_list: Tokenized input sentence.\n",
    "          output_list: Tokenized answer.\n",
    "          ponder_time: ponder_time matrices;\n",
    "          )\n",
    "    \"\"\"\n",
    "    encoded_story, encoded_question = self.encode(story_str, question_str)\n",
    "\n",
    "    # Run inference graph to get the label.\n",
    "    out = sess.run(self.samples, {\n",
    "        self.story: encoded_story,\n",
    "        self.question: encoded_question,\n",
    "    })\n",
    "\n",
    "    # Run the decoded answer through the training graph to get the\n",
    "    # ponder_time tensors.\n",
    "    ponder_time = sess.run(self.ponder_time, {\n",
    "        self.story: encoded_story,\n",
    "        self.question: encoded_question,\n",
    "        self.targets: np.reshape(out, [1, -1, 1, 1]),\n",
    "    })\n",
    "    \n",
    "    output = self.decode_targets(out)\n",
    "    story_list = self.decode_story(encoded_story)\n",
    "    question_list = self.decode_question(encoded_question)\n",
    "    \n",
    "    return story_list, question_list, output, ponder_time\n",
    "\n",
    "\n",
    "def build_model(hparams_set, model_name, data_dir, problem_name, beam_size=1):\n",
    "  \"\"\"Build the graph required to featch the ponder_times.\n",
    "\n",
    "  Args:\n",
    "    hparams_set: HParams set to build the model with.\n",
    "    model_name: Name of model.\n",
    "    data_dir: Path to directory contatining training data.\n",
    "    problem_name: Name of problem.\n",
    "    beam_size: (Optional) Number of beams to use when decoding a traslation.\n",
    "        If set to 1 (default) then greedy decoding is used.\n",
    "\n",
    "  Returns:\n",
    "    Tuple of (\n",
    "        inputs: Input placeholder to feed in ids.\n",
    "        targets: Targets placeholder to feed to th when fetching\n",
    "            ponder_time.\n",
    "        samples: Tensor representing the ids of the translation.\n",
    "        ponder_time: Tensors representing the ponder_time.\n",
    "    )\n",
    "  \"\"\"\n",
    "  hparams = trainer_lib.create_hparams(\n",
    "      hparams_set, data_dir=data_dir, problem_name=problem_name)\n",
    "  babi_model = registry.model(model_name)(\n",
    "      hparams, tf.estimator.ModeKeys.EVAL)\n",
    "          \n",
    "  story = tf.placeholder(tf.int32, shape=(\n",
    "      1, max_story_length, max_sentence_length, 1), \n",
    "                            name=babi_qa.FeatureNames.STORY)\n",
    "  question = tf.placeholder(tf.int32, shape=(\n",
    "      1, 1, max_question_length, 1), \n",
    "                            name=babi_qa.FeatureNames.QUESTION)\n",
    "  targets = tf.placeholder(tf.int32, shape=(1, 1, 1, 1), name='targets')\n",
    "  \n",
    "  babi_model({\n",
    "      babi_qa.FeatureNames.STORY: story,\n",
    "      babi_qa.FeatureNames.QUESTION: question,\n",
    "      'targets': targets,\n",
    "  })\n",
    "\n",
    "  # Must be called after building the training graph, so that the dict will\n",
    "  # have been filled with the ponder_time tensors. BUT before creating the\n",
    "  # interence graph otherwise the dict will be filled with tensors from\n",
    "  # inside a tf.while_loop from decoding and are marked unfetchable.\n",
    "  ponder_time = get_ponder_mats(babi_model)\n",
    "\n",
    "  with tf.variable_scope(tf.get_variable_scope(), reuse=True):\n",
    "    samples = babi_model.infer({\n",
    "       babi_qa.FeatureNames.STORY: story,\n",
    "       babi_qa.FeatureNames.QUESTION: question,\n",
    "    }, beam_size=beam_size)['outputs']\n",
    "\n",
    "  return story, question, targets, samples, ponder_time\n",
    "\n",
    "\n",
    "def get_ponder_mats(babi_model):\n",
    "  \"\"\"Get's the tensors representing the ponder_time from a build model.\n",
    "\n",
    "  The ponder_time are stored in a dict on the Transformer object while building\n",
    "  the graph.\n",
    "\n",
    "  Args:\n",
    "    babi_model: Transformer object to fetch the ponder_time from.\n",
    "\n",
    "  Returns:\n",
    "  Tuple of ponder_time matrices\n",
    "  \"\"\"\n",
    "#   print([n.name for n in tf.get_default_graph().as_graph_def().node])\n",
    "  attention_tensor_name = \"babi_r_transformer/parallel_0_5/babi_r_transformer/body/encoder/r_transformer_act/while/self_attention/multihead_attention/dot_product_attention/attention_weights\"\n",
    "  ponder_time_tensor_name = \"babi_r_transformer/parallel_0_5/babi_r_transformer/body/enc_ponder_times:0\"\n",
    "  ponder_time =  tf.get_default_graph().get_tensor_by_name(ponder_time_tensor_name)\n",
    "\n",
    "\n",
    "  return ponder_time"
   ]
  },
  {
   "cell_type": "code",
   "execution_count": 0,
   "metadata": {
    "colab": {
     "autoexec": {
      "startup": false,
      "wait_interval": 0
     }
    },
    "colab_type": "code",
    "collapsed": true,
    "id": "X9fnUy-e7sSx"
   },
   "outputs": [],
   "source": [
    "ponder_visualizer = bAbiACTVisualizer(hparams_set, model_name, data_dir, problem_name, beam_size=1)"
   ]
  },
  {
   "cell_type": "code",
   "execution_count": 0,
   "metadata": {
    "colab": {
     "autoexec": {
      "startup": false,
      "wait_interval": 0
     }
    },
    "colab_type": "code",
    "collapsed": true,
    "id": "Zv8YmyJubAKD"
   },
   "outputs": [],
   "source": [
    "tf.Variable(0, dtype=tf.int64, trainable=False, name='global_step')\n",
    "\n",
    "sess = tf.train.MonitoredTrainingSession(\n",
    "    checkpoint_dir=CHECKPOINT,\n",
    "    save_summaries_secs=0,\n",
    ")"
   ]
  },
  {
   "cell_type": "code",
   "execution_count": 0,
   "metadata": {
    "colab": {
     "autoexec": {
      "startup": false,
      "wait_interval": 0
     }
    },
    "colab_type": "code",
    "collapsed": true,
    "id": "nT7GG8tmbAKH"
   },
   "outputs": [],
   "source": [
    "if babi_task_id == 'qa1':\n",
    "#   input_story = \"John travelled to the hallway.Mary journeyed to the bathroom.\"\n",
    "#   input_question = \"Where is John?\" #hallway\n",
    "  \n",
    "  input_story = \"John travelled to the hallway.Mary journeyed to the bathroom.Daniel went back to the bathroom.John moved to the bedroom.\"\n",
    "  input_question = \"Where is Mary?\" #bathroom\n",
    "\n",
    "elif babi_task_id == 'qa2':\n",
    "  input_story = \"Mary got the milk there.John moved to the bedroom.Sandra went back to the kitchen.Mary travelled to the hallway.\"\n",
    "  input_question = \"Where is the milk?\" #hallway\n",
    "  \n",
    "#   input_story = \"Mary got the milk there.John moved to the bedroom.Sandra went back to the kitchen.Mary travelled to the hallway.John got the football there.John went to the hallway.\"\n",
    "#   input_question = \"Where is the football?\" #hallway\n",
    "\n",
    "elif babi_task_id == 'qa3':\n",
    "  input_story = \"Mary got the milk.John moved to the bedroom.Daniel journeyed to the office.John grabbed the apple there.John got the football.John journeyed to the garden.Mary left the milk.John left the football.Daniel moved to the garden.Daniel grabbed the football.Mary moved to the hallway.Mary went to the kitchen.John put down the apple there.John picked up the apple.Sandra moved to the hallway.Daniel left the football there.Daniel took the football.John travelled to the kitchen.Daniel dropped the football.John dropped the apple.John grabbed the apple.John went to the office.Sandra went back to the bedroom.Sandra took the milk.John journeyed to the bathroom.John travelled to the office.Sandra left the milk.Mary went to the bedroom.Mary moved to the office.John travelled to the hallway.Sandra moved to the garden.Mary moved to the kitchen.Daniel took the football.Mary journeyed to the bedroom.Mary grabbed the milk there.Mary discarded the milk.John went to the garden.John discarded the apple there.\"\n",
    "  input_question = \"Where was the apple before the bathroom?\" #office\n",
    "  \n",
    "#   input_story = \"Mary got the milk.John moved to the bedroom.Daniel journeyed to the office.John grabbed the apple there.John got the football.John journeyed to the garden.Mary left the milk.John left the football.Daniel moved to the garden.Daniel grabbed the football.Mary moved to the hallway.Mary went to the kitchen.John put down the apple there.John picked up the apple.Sandra moved to the hallway.Daniel left the football there.Daniel took the football.John travelled to the kitchen.Daniel dropped the football.John dropped the apple.John grabbed the apple.John went to the office.Sandra went back to the bedroom.Sandra took the milk.John journeyed to the bathroom.John travelled to the office.Sandra left the milk.Mary went to the bedroom.Mary moved to the office.John travelled to the hallway.Sandra moved to the garden.Mary moved to the kitchen.Daniel took the football.Mary journeyed to the bedroom.Mary grabbed the milk there.Mary discarded the milk.John went to the garden.John discarded the apple there.Sandra travelled to the bedroom.Daniel moved to the bathroom.\"\n",
    "#   input_question = \"Where was the apple before the hallway?\" #office\n",
    " \n"
   ]
  },
  {
   "cell_type": "code",
   "execution_count": 12,
   "metadata": {
    "colab": {
     "autoexec": {
      "startup": false,
      "wait_interval": 0
     },
     "height": 734
    },
    "colab_type": "code",
    "executionInfo": {
     "elapsed": 100,
     "status": "ok",
     "timestamp": 1526592535253,
     "user": {
      "displayName": "Mostafa Dehghani",
      "photoUrl": "//lh5.googleusercontent.com/-ovSYJK9S1U8/AAAAAAAAAAI/AAAAAAAAALw/GbZ35s0KD_I/s50-c-k-no/photo.jpg",
      "userId": "117544073113991621344"
     },
     "user_tz": -120
    },
    "id": "_-MWft638jMz",
    "outputId": "a858d80c-feba-4b86-d5c6-71d2775e25b1"
   },
   "outputs": [
    {
     "name": "stdout",
     "output_type": "stream",
     "text": [
      "Mary got the milk .\n",
      "John moved to the bedroom .\n",
      "Daniel journeyed to the office .\n",
      "John grabbed the apple there .\n",
      "John got the football .\n",
      "John journeyed to the garden .\n",
      "Mary left the milk .\n",
      "John left the football .\n",
      "Daniel moved to the garden .\n",
      "Daniel grabbed the football .\n",
      "Mary moved to the hallway .\n",
      "Mary went to the kitchen .\n",
      "John put down the apple there .\n",
      "John picked up the apple .\n",
      "Sandra moved to the hallway .\n",
      "Daniel left the football there .\n",
      "Daniel took the football .\n",
      "John travelled to the kitchen .\n",
      "Daniel dropped the football .\n",
      "John dropped the apple .\n",
      "John grabbed the apple .\n",
      "John went to the office .\n",
      "Sandra went back to the bedroom .\n",
      "Sandra took the milk .\n",
      "John journeyed to the bathroom .\n",
      "John travelled to the office .\n",
      "Sandra left the milk .\n",
      "Mary went to the bedroom .\n",
      "Mary moved to the office .\n",
      "John travelled to the hallway .\n",
      "Sandra moved to the garden .\n",
      "Mary moved to the kitchen .\n",
      "Daniel took the football .\n",
      "Mary journeyed to the bedroom .\n",
      "Mary grabbed the milk there .\n",
      "Mary discarded the milk .\n",
      "John went to the garden .\n",
      "John discarded the apple there .\n",
      "Where was the apple before the bathroom ?\n",
      "office\n",
      "[1.0, 1.0, 1.0, 2.0, 1.0, 1.0, 1.0, 1.0, 2.0, 1.0, 1.0, 1.0, 2.0, 1.0, 1.0, 1.0, 1.0, 1.0, 1.0, 2.0, 4.0, 3.0, 1.0, 1.0, 5.0, 3.0, 1.0, 1.0, 1.0, 1.0, 1.0, 1.0, 1.0, 1.0, 1.0, 1.0, 1.0, 4.0, 3.0]\n"
     ]
    }
   ],
   "source": [
    "story_text, question_text, output, ponder_time = ponder_visualizer.get_vis_data_from_string(sess, input_story, input_question)\n",
    "# print(output)\n",
    "# print(story_text)\n",
    "# print(question_text)\n",
    "\n",
    "inp_text = []\n",
    "for sent in story_text:\n",
    "  inp_text.append(' '.join(sent))\n",
    "inp_text.append(' '.join(question_text))\n",
    "ponder_time = np.squeeze(np.array(ponder_time)).tolist()\n",
    "# print(ponder_time)\n",
    "def pad_remover(inp_text, ponder_time):\n",
    "  pad_sent_index = [ i for i, sent in enumerate(inp_text) if sent.startswith('<pad>')]\n",
    "  start = min(pad_sent_index)\n",
    "  end = max(pad_sent_index)\n",
    "  filtered_inp_text = inp_text[:start] + inp_text[end+1:]\n",
    "  filtered_inp_text = [sent.replace('<pad> ', '') for sent in filtered_inp_text]\n",
    "  filtered_ponder_time = ponder_time[:start] + ponder_time[end+1:] \n",
    "  return filtered_inp_text, filtered_ponder_time\n",
    "\n",
    "\n",
    "filtered_inp_text, filtered_ponder_time = pad_remover(inp_text, ponder_time)\n",
    "for sent in filtered_inp_text:\n",
    "  print(sent)\n",
    "print(output)\n",
    "print(filtered_ponder_time)"
   ]
  },
  {
   "cell_type": "code",
   "execution_count": 13,
   "metadata": {
    "colab": {
     "autoexec": {
      "startup": false,
      "wait_interval": 0
     },
     "height": 594
    },
    "colab_type": "code",
    "executionInfo": {
     "elapsed": 752,
     "status": "ok",
     "timestamp": 1526592536589,
     "user": {
      "displayName": "Mostafa Dehghani",
      "photoUrl": "//lh5.googleusercontent.com/-ovSYJK9S1U8/AAAAAAAAAAI/AAAAAAAAALw/GbZ35s0KD_I/s50-c-k-no/photo.jpg",
      "userId": "117544073113991621344"
     },
     "user_tz": -120
    },
    "id": "0rEcvtvKLIrH",
    "outputId": "84364a5e-0593-4603-8d12-8b6be31775bc"
   },
   "outputs": [
    {
     "data": {
      "text/plain": [
       "<matplotlib.axes._subplots.AxesSubplot at 0x7fe3b3433910>"
      ]
     },
     "execution_count": 13,
     "metadata": {
      "tags": []
     },
     "output_type": "execute_result"
    },
    {
     "data": {
      "image/png": "[encoded data removed]",
      "text/plain": [
       "<matplotlib.figure.Figure at 0x7fe3b3433950>"
      ]
     },
     "metadata": {
      "tags": []
     },
     "output_type": "display_data"
    }
   ],
   "source": [
    "df = pd.DataFrame(\n",
    "    {'input': filtered_inp_text,\n",
    "     'ponder_time': filtered_ponder_time,\n",
    "    })\n",
    "\n",
    "f_size = (10,5)\n",
    "if babi_task_id == 'qa2':\n",
    "  f_size = (15,5)\n",
    "if babi_task_id == 'qa3':\n",
    "  f_size = (25,5)\n",
    "df.plot(kind='bar', x='input', y='ponder_time', rot=90,  width=0.3, figsize=f_size, cmap='Spectral')"
   ]
  }
 ],
 "metadata": {
  "colab": {
   "collapsed_sections": [],
   "default_view": {},
   "last_runtime": {
    "build_target": "",
    "kind": "local"
   },
   "name": "RTransformer_bAbi_ACT_visualization.ipynb",
   "provenance": [
    {
     "file_id": "1CJmDr4hgot9ssXCcBId34Ix0DYhTwru4",
     "timestamp": 1526506288877
    },
    {
     "file_id": "1-fJHfJGATpgezFg6b81a2-G25bQzTYzk",
     "timestamp": 1520932107568
    }
   ],
   "version": "0.3.2",
   "views": {}
  },
  "kernelspec": {
   "display_name": "Python [default]",
   "language": "python",
   "name": "python3"
  },
  "language_info": {
   "codemirror_mode": {
    "name": "ipython",
    "version": 3
   },
   "file_extension": ".py",
   "mimetype": "text/x-python",
   "name": "python",
   "nbconvert_exporter": "python",
   "pygments_lexer": "ipython3",
   "version": "3.6.2"
  }
 },
 "nbformat": 4,
 "nbformat_minor": 1
}
